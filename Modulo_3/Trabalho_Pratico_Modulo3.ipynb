{
 "cells": [
  {
   "cell_type": "code",
   "execution_count": 1,
   "id": "5063870d",
   "metadata": {},
   "outputs": [],
   "source": [
    "import pandas as pd\n",
    "import numpy as np\n",
    "import matplotlib.pyplot as plt\n",
    "\n",
    "from sklearn.model_selection import train_test_split\n",
    "from sklearn.preprocessing import StandardScaler\n",
    "\n",
    "from sklearn.linear_model import LinearRegression\n",
    "from sklearn import metrics\n",
    "from sklearn.svm import SVC\n",
    "from sklearn.cluster import KMeans\n",
    "from sklearn.metrics import silhouette_samples, silhouette_score\n",
    "from sklearn.metrics import roc_curve, roc_auc_score\n",
    "\n",
    "\n",
    "\n"
   ]
  },
  {
   "cell_type": "code",
   "execution_count": 2,
   "id": "d71ec5c2",
   "metadata": {},
   "outputs": [],
   "source": [
    "df1 = pd.read_csv('dados\\\\diabetes_numeric.csv') #REGRESSAO\n",
    "df2 = pd.read_csv('dados\\\\bloodtransf.csv')      #CLASSIFICACAO\n",
    "df3 = pd.read_csv('dados\\\\wine.csv')             #CLUSTERIZACAO\n"
   ]
  },
  {
   "cell_type": "code",
   "execution_count": 3,
   "id": "a379e9f1",
   "metadata": {},
   "outputs": [
    {
     "name": "stdout",
     "output_type": "stream",
     "text": [
      "Quantidade de linhas:  43 Quantidade de colunas:  3\n",
      "------------------------------\n"
     ]
    },
    {
     "data": {
      "text/html": [
       "<div>\n",
       "<style scoped>\n",
       "    .dataframe tbody tr th:only-of-type {\n",
       "        vertical-align: middle;\n",
       "    }\n",
       "\n",
       "    .dataframe tbody tr th {\n",
       "        vertical-align: top;\n",
       "    }\n",
       "\n",
       "    .dataframe thead th {\n",
       "        text-align: right;\n",
       "    }\n",
       "</style>\n",
       "<table border=\"1\" class=\"dataframe\">\n",
       "  <thead>\n",
       "    <tr style=\"text-align: right;\">\n",
       "      <th></th>\n",
       "      <th>age</th>\n",
       "      <th>deficit</th>\n",
       "      <th>c_peptide</th>\n",
       "    </tr>\n",
       "  </thead>\n",
       "  <tbody>\n",
       "    <tr>\n",
       "      <th>0</th>\n",
       "      <td>5.2</td>\n",
       "      <td>-8.1</td>\n",
       "      <td>4.8</td>\n",
       "    </tr>\n",
       "    <tr>\n",
       "      <th>1</th>\n",
       "      <td>8.8</td>\n",
       "      <td>-16.1</td>\n",
       "      <td>4.1</td>\n",
       "    </tr>\n",
       "    <tr>\n",
       "      <th>2</th>\n",
       "      <td>10.5</td>\n",
       "      <td>-0.9</td>\n",
       "      <td>5.2</td>\n",
       "    </tr>\n",
       "    <tr>\n",
       "      <th>3</th>\n",
       "      <td>10.6</td>\n",
       "      <td>-7.8</td>\n",
       "      <td>5.5</td>\n",
       "    </tr>\n",
       "    <tr>\n",
       "      <th>4</th>\n",
       "      <td>10.4</td>\n",
       "      <td>-29.0</td>\n",
       "      <td>5.0</td>\n",
       "    </tr>\n",
       "  </tbody>\n",
       "</table>\n",
       "</div>"
      ],
      "text/plain": [
       "    age  deficit  c_peptide\n",
       "0   5.2     -8.1        4.8\n",
       "1   8.8    -16.1        4.1\n",
       "2  10.5     -0.9        5.2\n",
       "3  10.6     -7.8        5.5\n",
       "4  10.4    -29.0        5.0"
      ]
     },
     "execution_count": 3,
     "metadata": {},
     "output_type": "execute_result"
    }
   ],
   "source": [
    "# verificando a questão 1\n",
    "\n",
    "print(\"Quantidade de linhas: \",  df1.shape[0], \"Quantidade de colunas: \",  df1.shape[1] )\n",
    "print('-'*30)\n",
    "df1.head()"
   ]
  },
  {
   "cell_type": "code",
   "execution_count": 4,
   "id": "5c8fb34d",
   "metadata": {},
   "outputs": [
    {
     "name": "stdout",
     "output_type": "stream",
     "text": [
      "Quantidade de linhas:  748 Quantidade de colunas:  5\n",
      "------------------------------\n"
     ]
    },
    {
     "data": {
      "text/html": [
       "<div>\n",
       "<style scoped>\n",
       "    .dataframe tbody tr th:only-of-type {\n",
       "        vertical-align: middle;\n",
       "    }\n",
       "\n",
       "    .dataframe tbody tr th {\n",
       "        vertical-align: top;\n",
       "    }\n",
       "\n",
       "    .dataframe thead th {\n",
       "        text-align: right;\n",
       "    }\n",
       "</style>\n",
       "<table border=\"1\" class=\"dataframe\">\n",
       "  <thead>\n",
       "    <tr style=\"text-align: right;\">\n",
       "      <th></th>\n",
       "      <th>V1</th>\n",
       "      <th>V2</th>\n",
       "      <th>V3</th>\n",
       "      <th>V4</th>\n",
       "      <th>Class</th>\n",
       "    </tr>\n",
       "  </thead>\n",
       "  <tbody>\n",
       "    <tr>\n",
       "      <th>0</th>\n",
       "      <td>2</td>\n",
       "      <td>50</td>\n",
       "      <td>12500</td>\n",
       "      <td>98</td>\n",
       "      <td>2</td>\n",
       "    </tr>\n",
       "    <tr>\n",
       "      <th>1</th>\n",
       "      <td>0</td>\n",
       "      <td>13</td>\n",
       "      <td>3250</td>\n",
       "      <td>28</td>\n",
       "      <td>2</td>\n",
       "    </tr>\n",
       "    <tr>\n",
       "      <th>2</th>\n",
       "      <td>1</td>\n",
       "      <td>16</td>\n",
       "      <td>4000</td>\n",
       "      <td>35</td>\n",
       "      <td>2</td>\n",
       "    </tr>\n",
       "    <tr>\n",
       "      <th>3</th>\n",
       "      <td>2</td>\n",
       "      <td>20</td>\n",
       "      <td>5000</td>\n",
       "      <td>45</td>\n",
       "      <td>2</td>\n",
       "    </tr>\n",
       "    <tr>\n",
       "      <th>4</th>\n",
       "      <td>1</td>\n",
       "      <td>24</td>\n",
       "      <td>6000</td>\n",
       "      <td>77</td>\n",
       "      <td>1</td>\n",
       "    </tr>\n",
       "  </tbody>\n",
       "</table>\n",
       "</div>"
      ],
      "text/plain": [
       "   V1  V2     V3  V4  Class\n",
       "0   2  50  12500  98      2\n",
       "1   0  13   3250  28      2\n",
       "2   1  16   4000  35      2\n",
       "3   2  20   5000  45      2\n",
       "4   1  24   6000  77      1"
      ]
     },
     "execution_count": 4,
     "metadata": {},
     "output_type": "execute_result"
    }
   ],
   "source": [
    "# verificando a questão 2\n",
    "\n",
    "print(\"Quantidade de linhas: \",  df2.shape[0], \"Quantidade de colunas: \",  df2.shape[1] )\n",
    "print('-'*30)\n",
    "df2.head()"
   ]
  },
  {
   "cell_type": "code",
   "execution_count": 5,
   "id": "0612dc0c",
   "metadata": {},
   "outputs": [
    {
     "name": "stdout",
     "output_type": "stream",
     "text": [
      "Quantidade de linhas:  178 Quantidade de colunas:  14\n",
      "------------------------------\n",
      "Quantidade de classes = 3\n"
     ]
    },
    {
     "data": {
      "text/html": [
       "<div>\n",
       "<style scoped>\n",
       "    .dataframe tbody tr th:only-of-type {\n",
       "        vertical-align: middle;\n",
       "    }\n",
       "\n",
       "    .dataframe tbody tr th {\n",
       "        vertical-align: top;\n",
       "    }\n",
       "\n",
       "    .dataframe thead th {\n",
       "        text-align: right;\n",
       "    }\n",
       "</style>\n",
       "<table border=\"1\" class=\"dataframe\">\n",
       "  <thead>\n",
       "    <tr style=\"text-align: right;\">\n",
       "      <th></th>\n",
       "      <th>class</th>\n",
       "      <th>Alcohol</th>\n",
       "      <th>Malic_acid</th>\n",
       "      <th>Ash</th>\n",
       "      <th>Alcalinity_of_ash</th>\n",
       "      <th>Magnesium</th>\n",
       "      <th>Total_phenols</th>\n",
       "      <th>Flavanoids</th>\n",
       "      <th>Nonflavanoid_phenols</th>\n",
       "      <th>Proanthocyanins</th>\n",
       "      <th>Color_intensity</th>\n",
       "      <th>Hue</th>\n",
       "      <th>OD280%2FOD315_of_diluted_wines</th>\n",
       "      <th>Proline</th>\n",
       "    </tr>\n",
       "  </thead>\n",
       "  <tbody>\n",
       "    <tr>\n",
       "      <th>0</th>\n",
       "      <td>1</td>\n",
       "      <td>14.23</td>\n",
       "      <td>1.71</td>\n",
       "      <td>2.43</td>\n",
       "      <td>15.6</td>\n",
       "      <td>127</td>\n",
       "      <td>2.80</td>\n",
       "      <td>3.06</td>\n",
       "      <td>0.28</td>\n",
       "      <td>2.29</td>\n",
       "      <td>5.64</td>\n",
       "      <td>1.04</td>\n",
       "      <td>3.92</td>\n",
       "      <td>1065</td>\n",
       "    </tr>\n",
       "    <tr>\n",
       "      <th>1</th>\n",
       "      <td>1</td>\n",
       "      <td>13.20</td>\n",
       "      <td>1.78</td>\n",
       "      <td>2.14</td>\n",
       "      <td>11.2</td>\n",
       "      <td>100</td>\n",
       "      <td>2.65</td>\n",
       "      <td>2.76</td>\n",
       "      <td>0.26</td>\n",
       "      <td>1.28</td>\n",
       "      <td>4.38</td>\n",
       "      <td>1.05</td>\n",
       "      <td>3.40</td>\n",
       "      <td>1050</td>\n",
       "    </tr>\n",
       "    <tr>\n",
       "      <th>2</th>\n",
       "      <td>1</td>\n",
       "      <td>13.16</td>\n",
       "      <td>2.36</td>\n",
       "      <td>2.67</td>\n",
       "      <td>18.6</td>\n",
       "      <td>101</td>\n",
       "      <td>2.80</td>\n",
       "      <td>3.24</td>\n",
       "      <td>0.30</td>\n",
       "      <td>2.81</td>\n",
       "      <td>5.68</td>\n",
       "      <td>1.03</td>\n",
       "      <td>3.17</td>\n",
       "      <td>1185</td>\n",
       "    </tr>\n",
       "    <tr>\n",
       "      <th>3</th>\n",
       "      <td>1</td>\n",
       "      <td>14.37</td>\n",
       "      <td>1.95</td>\n",
       "      <td>2.50</td>\n",
       "      <td>16.8</td>\n",
       "      <td>113</td>\n",
       "      <td>3.85</td>\n",
       "      <td>3.49</td>\n",
       "      <td>0.24</td>\n",
       "      <td>2.18</td>\n",
       "      <td>7.80</td>\n",
       "      <td>0.86</td>\n",
       "      <td>3.45</td>\n",
       "      <td>1480</td>\n",
       "    </tr>\n",
       "    <tr>\n",
       "      <th>4</th>\n",
       "      <td>1</td>\n",
       "      <td>13.24</td>\n",
       "      <td>2.59</td>\n",
       "      <td>2.87</td>\n",
       "      <td>21.0</td>\n",
       "      <td>118</td>\n",
       "      <td>2.80</td>\n",
       "      <td>2.69</td>\n",
       "      <td>0.39</td>\n",
       "      <td>1.82</td>\n",
       "      <td>4.32</td>\n",
       "      <td>1.04</td>\n",
       "      <td>2.93</td>\n",
       "      <td>735</td>\n",
       "    </tr>\n",
       "  </tbody>\n",
       "</table>\n",
       "</div>"
      ],
      "text/plain": [
       "   class  Alcohol  Malic_acid   Ash  Alcalinity_of_ash  Magnesium  \\\n",
       "0      1    14.23        1.71  2.43               15.6        127   \n",
       "1      1    13.20        1.78  2.14               11.2        100   \n",
       "2      1    13.16        2.36  2.67               18.6        101   \n",
       "3      1    14.37        1.95  2.50               16.8        113   \n",
       "4      1    13.24        2.59  2.87               21.0        118   \n",
       "\n",
       "   Total_phenols  Flavanoids  Nonflavanoid_phenols  Proanthocyanins  \\\n",
       "0           2.80        3.06                  0.28             2.29   \n",
       "1           2.65        2.76                  0.26             1.28   \n",
       "2           2.80        3.24                  0.30             2.81   \n",
       "3           3.85        3.49                  0.24             2.18   \n",
       "4           2.80        2.69                  0.39             1.82   \n",
       "\n",
       "   Color_intensity   Hue  OD280%2FOD315_of_diluted_wines  Proline  \n",
       "0             5.64  1.04                            3.92     1065  \n",
       "1             4.38  1.05                            3.40     1050  \n",
       "2             5.68  1.03                            3.17     1185  \n",
       "3             7.80  0.86                            3.45     1480  \n",
       "4             4.32  1.04                            2.93      735  "
      ]
     },
     "execution_count": 5,
     "metadata": {},
     "output_type": "execute_result"
    }
   ],
   "source": [
    "# verificando a questão 3\n",
    "\n",
    "print(\"Quantidade de linhas: \", df3.shape[0], \"Quantidade de colunas: \",  df3.shape[1] )\n",
    "print('-'*30)\n",
    "\n",
    "\n",
    "# Quantidade de classes\n",
    "size = len(df3['class'].unique())\n",
    "print(f'Quantidade de classes = {size}')\n",
    "\n",
    "# verificando as linhas e colunas\n",
    "df3.head()\n"
   ]
  },
  {
   "cell_type": "code",
   "execution_count": 6,
   "id": "13cff4b8",
   "metadata": {},
   "outputs": [
    {
     "name": "stdout",
     "output_type": "stream",
     "text": [
      "dados faltantes df1: \n",
      " age          0\n",
      "deficit      0\n",
      "c_peptide    0\n",
      "dtype: int64\n",
      "------------------------------------------------------------\n",
      "dados faltantes df2: \n",
      " V1       0\n",
      "V2       0\n",
      "V3       0\n",
      "V4       0\n",
      "Class    0\n",
      "dtype: int64\n",
      "------------------------------------------------------------\n",
      "dados faltantes df3: \n",
      " class                             0\n",
      "Alcohol                           0\n",
      "Malic_acid                        0\n",
      "Ash                               0\n",
      "Alcalinity_of_ash                 0\n",
      "Magnesium                         0\n",
      "Total_phenols                     0\n",
      "Flavanoids                        0\n",
      "Nonflavanoid_phenols              0\n",
      "Proanthocyanins                   0\n",
      "Color_intensity                   0\n",
      "Hue                               0\n",
      "OD280%2FOD315_of_diluted_wines    0\n",
      "Proline                           0\n",
      "dtype: int64\n",
      "------------------------------------------------------------\n"
     ]
    }
   ],
   "source": [
    "# Verificando a questão 4\n",
    "\n",
    "print(\"dados faltantes df1: \\n\", df1.isnull().sum())\n",
    "print(\"--\"*30)\n",
    "\n",
    "print(\"dados faltantes df2: \\n\", df2.isnull().sum())\n",
    "print(\"--\"*30)\n",
    "\n",
    "print(\"dados faltantes df3: \\n\", df3.isnull().sum())\n",
    "print(\"--\"*30)\n"
   ]
  },
  {
   "cell_type": "markdown",
   "id": "3ba8aa88",
   "metadata": {},
   "source": [
    "## Regressão Linear"
   ]
  },
  {
   "cell_type": "code",
   "execution_count": 7,
   "id": "80c608a1",
   "metadata": {},
   "outputs": [],
   "source": [
    "X_df1 = df1.drop('c_peptide', axis=1)\n",
    "y_df1 = df1['c_peptide']\n"
   ]
  },
  {
   "cell_type": "code",
   "execution_count": 8,
   "id": "44167379",
   "metadata": {},
   "outputs": [],
   "source": [
    "sc = StandardScaler()\n",
    "X = sc.fit_transform(X_df1)"
   ]
  },
  {
   "cell_type": "code",
   "execution_count": 9,
   "id": "0c91d1c6",
   "metadata": {},
   "outputs": [],
   "source": [
    "# separa treino e teste\n",
    "X_train1, X_test1, y_train1, y_test1 = train_test_split(X, \n",
    "                                                    y_df1, \n",
    "                                                    test_size=0.37, \n",
    "                                                    random_state=5762)\n"
   ]
  },
  {
   "cell_type": "code",
   "execution_count": 10,
   "id": "c9cf32ec",
   "metadata": {},
   "outputs": [],
   "source": [
    "# Verificando a questão 5\n",
    "reg_lin = LinearRegression()\n",
    "reg_lin.fit(X_train1,y_train1)\n",
    "df1_y_pred = reg_lin.predict(X_test1)\n"
   ]
  },
  {
   "cell_type": "code",
   "execution_count": 11,
   "id": "b6e8f049",
   "metadata": {},
   "outputs": [
    {
     "name": "stdout",
     "output_type": "stream",
     "text": [
      "R2: 0.02\n",
      "MAE: 0.53\n",
      "MSE: 0.44\n"
     ]
    }
   ],
   "source": [
    "# Verificando a questão 5\n",
    "print(f'R2: {round(metrics.r2_score(y_test1, df1_y_pred),2)}')\n",
    "\n",
    "# verificando a questão 6\n",
    "print(f'MAE: {round(metrics.mean_absolute_error(y_test1, df1_y_pred),2)}')\n",
    "\n",
    "# verificando a questão 7\n",
    "print(f'MSE: {round(metrics.mean_squared_error(y_test1, df1_y_pred),2)}')"
   ]
  },
  {
   "cell_type": "markdown",
   "id": "07a7d40b",
   "metadata": {},
   "source": [
    "## Classificação"
   ]
  },
  {
   "cell_type": "code",
   "execution_count": 12,
   "id": "51cd686d",
   "metadata": {},
   "outputs": [
    {
     "data": {
      "text/plain": [
       "array([2, 1], dtype=int64)"
      ]
     },
     "execution_count": 12,
     "metadata": {},
     "output_type": "execute_result"
    }
   ],
   "source": [
    "df2['Class'].unique()"
   ]
  },
  {
   "cell_type": "code",
   "execution_count": 13,
   "id": "58d328be",
   "metadata": {},
   "outputs": [],
   "source": [
    "name_to_class = {1: 0, \n",
    "                 2: 1}\n",
    "\n",
    "#substituindo os valores categóricos pelo mapeamento\n",
    "df2['Class'] = df2['Class'].map(name_to_class)"
   ]
  },
  {
   "cell_type": "code",
   "execution_count": 14,
   "id": "ed1ef578",
   "metadata": {},
   "outputs": [
    {
     "data": {
      "text/plain": [
       "array([1, 0], dtype=int64)"
      ]
     },
     "execution_count": 14,
     "metadata": {},
     "output_type": "execute_result"
    }
   ],
   "source": [
    "df2['Class'].unique()"
   ]
  },
  {
   "cell_type": "code",
   "execution_count": 15,
   "id": "8c3db4a8",
   "metadata": {},
   "outputs": [],
   "source": [
    "y_df2 = np.array(df2['Class'])\n"
   ]
  },
  {
   "cell_type": "code",
   "execution_count": 16,
   "id": "397725e8",
   "metadata": {},
   "outputs": [
    {
     "data": {
      "text/plain": [
       "Index(['V1', 'V2', 'V3', 'V4'], dtype='object')"
      ]
     },
     "execution_count": 16,
     "metadata": {},
     "output_type": "execute_result"
    }
   ],
   "source": [
    "# removendo a coluna de labels do df original\n",
    "X_df2 = df2.drop('Class', axis=1)\n",
    "\n",
    "# check\n",
    "X_df2.columns"
   ]
  },
  {
   "cell_type": "code",
   "execution_count": 17,
   "id": "9c959367",
   "metadata": {},
   "outputs": [],
   "source": [
    "# convertendo df para array\n",
    "X_df2 = np.array(X_df2)"
   ]
  },
  {
   "cell_type": "code",
   "execution_count": 18,
   "id": "98141576",
   "metadata": {},
   "outputs": [],
   "source": [
    "#sc = StandardScaler()\n",
    "#X = sc.fit_transform(X_df2)"
   ]
  },
  {
   "cell_type": "code",
   "execution_count": 19,
   "id": "c21b8d8a",
   "metadata": {},
   "outputs": [],
   "source": [
    "# separa treino e teste\n",
    "X_train2, X_test2, y_train2, y_test2 = train_test_split(X_df2, \n",
    "                                                    y_df2, \n",
    "                                                    test_size=0.37, \n",
    "                                                    random_state=5762)\n",
    "clf = SVC(kernel ='rbf')\n",
    "clf.fit(X_train2, y_train2)\n",
    "\n",
    "df2_y_pred = clf.predict(X_test2)"
   ]
  },
  {
   "cell_type": "code",
   "execution_count": 20,
   "id": "d79a67f4",
   "metadata": {},
   "outputs": [
    {
     "data": {
      "text/plain": [
       "0.79"
      ]
     },
     "execution_count": 20,
     "metadata": {},
     "output_type": "execute_result"
    }
   ],
   "source": [
    "round(metrics.accuracy_score(y_test2, df2_y_pred),2)"
   ]
  },
  {
   "cell_type": "code",
   "execution_count": 21,
   "id": "8f37db19",
   "metadata": {
    "scrolled": true
   },
   "outputs": [
    {
     "name": "stdout",
     "output_type": "stream",
     "text": [
      "              precision    recall  f1-score   support\n",
      "\n",
      "           0       0.80      0.98      0.88       218\n",
      "           1       0.50      0.07      0.12        59\n",
      "\n",
      "    accuracy                           0.79       277\n",
      "   macro avg       0.65      0.52      0.50       277\n",
      "weighted avg       0.73      0.79      0.72       277\n",
      "\n",
      "[[214   4]\n",
      " [ 55   4]]\n"
     ]
    }
   ],
   "source": [
    "print(metrics.classification_report(y_test2, df2_y_pred))\n",
    "print(metrics.confusion_matrix(y_test2, df2_y_pred))"
   ]
  },
  {
   "cell_type": "code",
   "execution_count": 22,
   "id": "0acd5f43",
   "metadata": {},
   "outputs": [
    {
     "name": "stdout",
     "output_type": "stream",
     "text": [
      "Matriz de Confusão\n",
      " [[214   4]\n",
      " [ 55   4]]\n",
      "\n",
      "Acurácia\n",
      " 0.7870036101083032\n",
      "\n",
      "Acurácia Balanceada por classe\n",
      " 0.5247239931581402\n",
      "\n",
      "Precision\n",
      " 0.5\n",
      "\n",
      "Recall\n",
      " 0.06779661016949153\n",
      "\n",
      "F1\n",
      " 0.11940298507462686\n"
     ]
    }
   ],
   "source": [
    "print('Matriz de Confusão\\n', metrics.confusion_matrix(y_test2, df2_y_pred)) \n",
    "print('\\nAcurácia\\n', metrics.accuracy_score(y_test2, df2_y_pred)) \n",
    "print('\\nAcurácia Balanceada por classe\\n', metrics.balanced_accuracy_score(y_test2, df2_y_pred)) \n",
    "print('\\nPrecision\\n', metrics.precision_score(y_test2, df2_y_pred)) \n",
    "print('\\nRecall\\n', metrics.recall_score(y_test2, df2_y_pred)) \n",
    "print('\\nF1\\n', metrics.f1_score(y_test2, df2_y_pred)) \n",
    "\n"
   ]
  },
  {
   "cell_type": "code",
   "execution_count": 23,
   "id": "9bc531bd",
   "metadata": {},
   "outputs": [
    {
     "name": "stdout",
     "output_type": "stream",
     "text": [
      "[1 1 0 1 0 1 1 0 0 1 0 1 0 0 0 0 1 0 1 0 1 0 0 0 0 0 0 1 1 0 1 0 0 0 0 1 1\n",
      " 1 1 0 1 0 1 0 0 1 1 0 1 1 1 1 1 1 1 1 1 1 0 0 1 0 0 0 1 0 0 1 1 0 0 0 0 0\n",
      " 0 1 1 1 0 0 0 0 1 0 0 0 0 1 1 1 1 1 0 1 1 0 1 1 1 0 1 1 1 0 1 0 1 0 1 0 0\n",
      " 1 1 1 1 0 0 1 0 1 0 1 0 0 0 0 0 1 0 0 1 1 0 0 1 1 0 0 0 1 0 1 0 1 0 0 1 1\n",
      " 0 1 0 0 0 0 1 1 0 1 1 0 0 0 0 0 1 0 0 0 1 0 1 1 1 0 0 0 1 0 1 1 1 1 1 0 1\n",
      " 0 0 0 0 1 0 0 0 0 0 1 0 0 1 1 0 1 1 0 1 0 1 1 0 1 1 0 0 1 1 1 1 0 0 1 0 1\n",
      " 0 0 0 0 1 1 0 1 0 0 1 0 1 1 0 0 0 0 1 1 1 1 0 1 0 1 1 1 1 1 1 0 0 0 0 0 1\n",
      " 0 1 0 0 1 1 1 0 1 1 0 1 0 1 1 1 1 0]\n"
     ]
    }
   ],
   "source": [
    "baseline_preds = np.random.choice([0,1], size = len(y_test2))\n",
    "\n",
    "print(baseline_preds)"
   ]
  },
  {
   "cell_type": "code",
   "execution_count": 24,
   "id": "15452ad5",
   "metadata": {},
   "outputs": [
    {
     "name": "stdout",
     "output_type": "stream",
     "text": [
      "\\Baseline nAUCROC\n",
      " 0.57\n",
      "\n",
      "AUCROC\n",
      " 0.52\n"
     ]
    }
   ],
   "source": [
    "## Verificando a questão 11 \n",
    "\n",
    "print('\\Baseline nAUCROC\\n', round(metrics.roc_auc_score(y_test2, baseline_preds),2))\n",
    "print('\\nAUCROC\\n', round(metrics.roc_auc_score(y_test2, df2_y_pred),2))\n"
   ]
  },
  {
   "cell_type": "markdown",
   "id": "1985bb8e",
   "metadata": {},
   "source": [
    "## Cluster"
   ]
  },
  {
   "cell_type": "code",
   "execution_count": 25,
   "id": "10013d0b",
   "metadata": {},
   "outputs": [
    {
     "name": "stdout",
     "output_type": "stream",
     "text": [
      "Quantidade de classes = 3\n"
     ]
    }
   ],
   "source": [
    "# verificando a questão 12\n",
    "\n",
    "# Quantidade de classes\n",
    "size = len(df3['class'].unique())\n",
    "print(f'Quantidade de classes = {size}')"
   ]
  },
  {
   "cell_type": "code",
   "execution_count": 26,
   "id": "343ed1c8",
   "metadata": {},
   "outputs": [],
   "source": [
    "name_to_class = {1: 0, 2: 1, 3: 2}\n",
    "\n",
    "#substituindo os valores categóricos pelo mapeamento\n",
    "df3['class'] = df3['class'].map(name_to_class)"
   ]
  },
  {
   "cell_type": "code",
   "execution_count": 27,
   "id": "58add639",
   "metadata": {},
   "outputs": [],
   "source": [
    "# armazenando os labels em um array\n",
    "y_df3 = np.array(df3['class'])\n",
    "\n",
    "# salvando a ordem das features\n",
    "feature_list = list(df3.columns)"
   ]
  },
  {
   "cell_type": "code",
   "execution_count": 28,
   "id": "bcd55e6e",
   "metadata": {},
   "outputs": [
    {
     "data": {
      "text/plain": [
       "Index(['Alcohol', 'Malic_acid', 'Ash', 'Alcalinity_of_ash', 'Magnesium',\n",
       "       'Total_phenols', 'Flavanoids', 'Nonflavanoid_phenols',\n",
       "       'Proanthocyanins', 'Color_intensity', 'Hue',\n",
       "       'OD280%2FOD315_of_diluted_wines', 'Proline'],\n",
       "      dtype='object')"
      ]
     },
     "execution_count": 28,
     "metadata": {},
     "output_type": "execute_result"
    }
   ],
   "source": [
    "# removendo a coluna de labels do df original\n",
    "X_df3 = df3.drop('class', axis = 1)\n",
    "\n",
    "# check\n",
    "X_df3.columns"
   ]
  },
  {
   "cell_type": "code",
   "execution_count": 29,
   "id": "6211a9f0",
   "metadata": {},
   "outputs": [],
   "source": [
    "data = np.array(df3)"
   ]
  },
  {
   "cell_type": "code",
   "execution_count": 30,
   "id": "61ff49bf",
   "metadata": {},
   "outputs": [],
   "source": [
    "X_train, X_test, y_train, y_test = train_test_split(X_df3, \n",
    "                                                    y_df3, \n",
    "                                                    test_size=0.37,\n",
    "                                                    random_state = 5762)"
   ]
  },
  {
   "cell_type": "code",
   "execution_count": 31,
   "id": "ba5ab0ff",
   "metadata": {},
   "outputs": [
    {
     "name": "stderr",
     "output_type": "stream",
     "text": [
      "C:\\Users\\thiag\\AppData\\Roaming\\Python\\Python39\\site-packages\\sklearn\\cluster\\_kmeans.py:1332: UserWarning: KMeans is known to have a memory leak on Windows with MKL, when there are less chunks than available threads. You can avoid it by setting the environment variable OMP_NUM_THREADS=1.\n",
      "  warnings.warn(\n"
     ]
    }
   ],
   "source": [
    "clustering = KMeans(n_clusters = 3, random_state = 5762)\n",
    " \n",
    "# treinando o modelo no conjunto de dados de treino\n",
    "clustering.fit(X_train);"
   ]
  },
  {
   "cell_type": "code",
   "execution_count": 32,
   "id": "abe6d1dd",
   "metadata": {},
   "outputs": [],
   "source": [
    "# aplicando o modelo treinado para a previsão da temperatura \n",
    "#em todo o conjunto de teste\n",
    "df3_y_pred = clustering.predict(X_test)"
   ]
  },
  {
   "cell_type": "code",
   "execution_count": 33,
   "id": "491d1926",
   "metadata": {},
   "outputs": [
    {
     "name": "stdout",
     "output_type": "stream",
     "text": [
      "Coeficiente de Silhueta\n",
      " 0.6\n",
      "\n",
      "Davies-Bouldin Score\n",
      " 0.5\n",
      "\n",
      "Matriz de Contingência\n",
      " [[ 0 12  5]\n",
      " [23  0  7]\n",
      " [ 4  0 15]]\n",
      "\n",
      "Mutual information\n",
      " 0.49\n"
     ]
    }
   ],
   "source": [
    "#avaliando o modelo\n",
    "\n",
    "# Verificando a questão 13\n",
    "print('Coeficiente de Silhueta\\n', round(metrics.silhouette_score(X_test, \n",
    "                                                            df3_y_pred),2)) \n",
    "\n",
    "# Verificando a questão 14\n",
    "print('\\nDavies-Bouldin Score\\n', round(metrics.davies_bouldin_score(X_test, \n",
    "                                                               df3_y_pred),2))\n",
    "\n",
    "print('\\nMatriz de Contingência\\n', metrics.cluster.contingency_matrix(y_test, \n",
    "                                                                       df3_y_pred)) \n",
    "\n",
    "# Verificando a questão 15\n",
    "print('\\nMutual information\\n', round(metrics.mutual_info_score(y_test, \n",
    "                                                          df3_y_pred),2)) "
   ]
  },
  {
   "cell_type": "code",
   "execution_count": null,
   "id": "d928edfd",
   "metadata": {},
   "outputs": [],
   "source": []
  },
  {
   "cell_type": "code",
   "execution_count": null,
   "id": "aa03b19f",
   "metadata": {},
   "outputs": [],
   "source": []
  }
 ],
 "metadata": {
  "kernelspec": {
   "display_name": "Python 3 (ipykernel)",
   "language": "python",
   "name": "python3"
  },
  "language_info": {
   "codemirror_mode": {
    "name": "ipython",
    "version": 3
   },
   "file_extension": ".py",
   "mimetype": "text/x-python",
   "name": "python",
   "nbconvert_exporter": "python",
   "pygments_lexer": "ipython3",
   "version": "3.9.12"
  }
 },
 "nbformat": 4,
 "nbformat_minor": 5
}
